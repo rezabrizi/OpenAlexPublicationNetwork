{
 "cells": [
  {
   "cell_type": "code",
   "execution_count": null,
   "metadata": {},
   "outputs": [],
   "source": [
    "import openalexnet as oanet\n",
    "from tqdm.auto import tqdm\n",
    "filterData = {\n",
    "    \"author.id\" : \"a5103024730\",\n",
    "    \"is_paratext\" : \"false\",\n",
    "    \"from_publication_date\": \"2000-01-01\"\n",
    "}\n",
    "\n",
    "openalex = oanet.OpenAlexAPI()\n",
    "\n",
    "entities = openalex.getEntities(entityType=\"works\", filter=filterData)"
   ]
  },
  {
   "cell_type": "code",
   "execution_count": null,
   "metadata": {},
   "outputs": [],
   "source": [
    "entitiesList = []\n",
    "for entity in tqdm(entities, desc=\"retrieving entities\"):\n",
    "    entitiesList.append(entity) "
   ]
  },
  {
   "cell_type": "code",
   "execution_count": null,
   "metadata": {},
   "outputs": [],
   "source": [
    "networks = oanet.createNetworks(entities, networkTypes=[\"citation\"], simplifyNetworks=True, showProgress=True)"
   ]
  },
  {
   "cell_type": "code",
   "execution_count": null,
   "metadata": {},
   "outputs": [],
   "source": [
    "g = networks[\"citation\"]"
   ]
  },
  {
   "cell_type": "code",
   "execution_count": null,
   "metadata": {},
   "outputs": [],
   "source": [
    "for node, references in enumerate(g.get_adjlist()):\n",
    "    #print (f\"{node} - {g.vs['title'][node]}: {references}\")\n",
    "    for ref in references:\n",
    "        if g.vs['title'][ref] == \"Attention Is All You Need\": \n",
    "            print (g.vs['title'][node])"
   ]
  },
  {
   "cell_type": "code",
   "execution_count": null,
   "metadata": {},
   "outputs": [],
   "source": [
    "adj_list = g.get_adjlist()\n",
    "node_titles = g.vs[\"title\"]\n",
    "\n",
    "# Create a title-based adjacency list with node numbers\n",
    "title_adj_list = {\n",
    "    f\"{node_titles[i]}\": [f\"{node_titles[reference]}\" for reference in references]\n",
    "    for i, references in enumerate(adj_list)\n",
    "}\n"
   ]
  },
  {
   "cell_type": "code",
   "execution_count": null,
   "metadata": {},
   "outputs": [],
   "source": [
    "for pub, cites in title_adj_list.items():\n",
    "    #print(cites)\n",
    "    for child_pub in cites: \n",
    "        if child_pub == \"Attention Is All You Need\":\n",
    "            print (pub)"
   ]
  },
  {
   "cell_type": "code",
   "execution_count": null,
   "metadata": {},
   "outputs": [],
   "source": [
    "g.vs[\"label\"] = list(range(g.vcount()))  # Use numeric indices as labels\n",
    "\n",
    "# Plot the graph\n",
    "from igraph import plot\n",
    "plot(g, bbox=(600, 600), margin=20)"
   ]
  },
  {
   "cell_type": "code",
   "execution_count": null,
   "metadata": {},
   "outputs": [],
   "source": [
    "from citation_network.crawler import OAApi\n",
    "alexCrawler = OAApi(\"reza.tabrizi.75024@gmail.com\")\n",
    "filters = {\n",
    "    \"is_paratext\" : \"false\",\n",
    "    \"language\": \"en\",\n",
    "    \"open_access.is_oa\": \"true\",\n",
    "    \"from_publication_date\": \"2017-01-01\",\n",
    "    \"to_publication_date\": \"2017-01-01\"\n",
    "}\n",
    "\n",
    "search = \"Attention is all you need\"\n",
    "entities = alexCrawler.getEntities(filters, search)"
   ]
  },
  {
   "cell_type": "code",
   "execution_count": null,
   "metadata": {},
   "outputs": [],
   "source": []
  },
  {
   "cell_type": "code",
   "execution_count": null,
   "metadata": {},
   "outputs": [],
   "source": [
    "from citation_network.crawler import createCitationGraph\n",
    "g = createCitationGraph(entities=entities)"
   ]
  },
  {
   "cell_type": "code",
   "execution_count": null,
   "metadata": {},
   "outputs": [],
   "source": [
    "for v in g.vs: \n",
    "    print(g.vs[v.index].attributes())"
   ]
  },
  {
   "cell_type": "code",
   "execution_count": null,
   "metadata": {},
   "outputs": [],
   "source": [
    "from citation_network.crawler import EntitiesCrawler"
   ]
  },
  {
   "cell_type": "code",
   "execution_count": null,
   "metadata": {},
   "outputs": [],
   "source": [
    "crawler = EntitiesCrawler()\n",
    "iterator = crawler.citationBFS([\"W3001111845\"], maxLevels=3, maxNodes=1000)"
   ]
  },
  {
   "cell_type": "code",
   "execution_count": null,
   "metadata": {},
   "outputs": [],
   "source": [
    "nodes = []\n",
    "for item in iterator: \n",
    "    nodes.append(item)"
   ]
  },
  {
   "cell_type": "code",
   "execution_count": null,
   "metadata": {},
   "outputs": [],
   "source": [
    "len(nodes)"
   ]
  },
  {
   "cell_type": "code",
   "execution_count": null,
   "metadata": {},
   "outputs": [],
   "source": [
    "nodes"
   ]
  },
  {
   "cell_type": "code",
   "execution_count": null,
   "metadata": {},
   "outputs": [],
   "source": []
  }
 ],
 "metadata": {
  "kernelspec": {
   "display_name": "citation-network-paDbNT47-py3.13",
   "language": "python",
   "name": "python3"
  },
  "language_info": {
   "codemirror_mode": {
    "name": "ipython",
    "version": 3
   },
   "file_extension": ".py",
   "mimetype": "text/x-python",
   "name": "python",
   "nbconvert_exporter": "python",
   "pygments_lexer": "ipython3",
   "version": "3.13.0"
  }
 },
 "nbformat": 4,
 "nbformat_minor": 2
}
