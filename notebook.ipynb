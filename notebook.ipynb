{
 "cells": [
  {
   "cell_type": "code",
   "execution_count": null,
   "metadata": {},
   "outputs": [],
   "source": [
    "import openalexnet as oanet\n",
    "from tqdm.auto import tqdm\n",
    "filterData = {\n",
    "    \"author.id\" : \"a5103024730\",\n",
    "    \"is_paratext\" : \"false\",\n",
    "    \"from_publication_date\": \"2000-01-01\"\n",
    "}\n",
    "\n",
    "openalex = oanet.OpenAlexAPI()\n",
    "entities = openalex.getEntities(entityType=\"works\", filter=filterData)\n",
    "entitiesList = []\n",
    "for entity in tqdm(entities, desc=\"retrieving entities\"):\n",
    "    entitiesList.append(entity) \n",
    "networks = oanet.createNetworks(entities, networkTypes=[\"citation\"], simplifyNetworks=True, showProgress=True)\n",
    "g = networks[\"citation\"]\n",
    "for node, references in enumerate(g.get_adjlist()):\n",
    "    #print (f\"{node} - {g.vs['title'][node]}: {references}\")\n",
    "    for ref in references:\n",
    "        if g.vs['title'][ref] == \"Attention Is All You Need\": \n",
    "            print (g.vs['title'][node])\n",
    "\n",
    "adj_list = g.get_adjlist()\n",
    "node_titles = g.vs[\"title\"]\n",
    "\n",
    "# Create a title-based adjacency list with node numbers\n",
    "title_adj_list = {\n",
    "    f\"{node_titles[i]}\": [f\"{node_titles[reference]}\" for reference in references]\n",
    "    for i, references in enumerate(adj_list)\n",
    "}\n",
    "for pub, cites in title_adj_list.items():\n",
    "    #print(cites)\n",
    "    for child_pub in cites: \n",
    "        if child_pub == \"Attention Is All You Need\":\n",
    "            print (pub)\n",
    "g.vs[\"label\"] = list(range(g.vcount()))  # Use numeric indices as labels\n",
    "\n",
    "# Plot the graph\n",
    "from igraph import plot\n",
    "plot(g, bbox=(600, 600), margin=20)"
   ]
  },
  {
   "cell_type": "code",
   "execution_count": 1,
   "metadata": {},
   "outputs": [
    {
     "name": "stderr",
     "output_type": "stream",
     "text": [
      "/Users/rezatabrizi/Library/Caches/pypoetry/virtualenvs/citation-network-paDbNT47-py3.13/lib/python3.13/site-packages/tqdm/auto.py:21: TqdmWarning: IProgress not found. Please update jupyter and ipywidgets. See https://ipywidgets.readthedocs.io/en/stable/user_install.html\n",
      "  from .autonotebook import tqdm as notebook_tqdm\n",
      "2025-01-07 09:49:25,631 - INFO - Making API request: https://api.openalex.org/works?filter=is_paratext%3Afalse%2Clanguage%3Aen%2Copen_access.is_oa%3Atrue%2Cfrom_publication_date%3A2017-01-01%2Cto_publication_date%3A2017-01-01&search=Attention+is+all+you+need&mailto=reza.tabrizi.75024%40gmail.com&per_page=200&page=\n",
      "2025-01-07 09:49:27,039 - INFO - Finished first API call, returning iterator.\n",
      "2025-01-07 09:49:27,040 - INFO - Total entities found: 8898, Pages to fetch: 45\n"
     ]
    }
   ],
   "source": [
    "from citation_network.crawler import EntitiesCrawler\n",
    "alexCrawler = EntitiesCrawler(\"reza.tabrizi.75024@gmail.com\")\n",
    "filters = {\n",
    "    \"is_paratext\" : \"false\",\n",
    "    \"language\": \"en\",\n",
    "    \"open_access.is_oa\": \"true\",\n",
    "    \"from_publication_date\": \"2017-01-01\",\n",
    "    \"to_publication_date\": \"2017-01-01\"\n",
    "}\n",
    "\n",
    "search = \"Attention is all you need\"\n",
    "entities = alexCrawler.getEntities(filters, search)"
   ]
  },
  {
   "cell_type": "code",
   "execution_count": null,
   "metadata": {},
   "outputs": [],
   "source": [
    "from citation_network import EntitiesCrawler, createCitationGraph\n",
    "from igraph import plot"
   ]
  },
  {
   "cell_type": "code",
   "execution_count": null,
   "metadata": {},
   "outputs": [],
   "source": [
    "crawler = EntitiesCrawler(\"reza.aghazadehtabrizi@utdallas.edu\")\n",
    "iterator = crawler.citationBFS([\"W3001111845\"], maxLevels=2, maxNodes=1000)\n",
    "g = createCitationGraph(iterator)\n",
    "plot(g, bbox=(600, 600), margin=20)"
   ]
  },
  {
   "cell_type": "code",
   "execution_count": null,
   "metadata": {},
   "outputs": [
    {
     "name": "stderr",
     "output_type": "stream",
     "text": [
      "Creating the citation graph: 19it [00:02,  9.73it/s]WARNING - [{'WID': 'W2809583854'}] Rate limit hit (HTTPS 429). Retrying in 2.0 seconds...\n",
      "                                                    \r"
     ]
    }
   ],
   "source": [
    "from citation_network import save_citation_graph_to_csv, create_citation_graph_from_csv"
   ]
  },
  {
   "cell_type": "code",
   "execution_count": null,
   "metadata": {},
   "outputs": [],
   "source": [
    "save_citation_graph_to_csv(\"test.csv\", g)"
   ]
  },
  {
   "cell_type": "code",
   "execution_count": null,
   "metadata": {},
   "outputs": [],
   "source": [
    "g_from_csv = create_citation_graph_from_csv(\"test.csv\")"
   ]
  }
 ],
 "metadata": {
  "kernelspec": {
   "display_name": "citation-network-paDbNT47-py3.13",
   "language": "python",
   "name": "python3"
  },
  "language_info": {
   "codemirror_mode": {
    "name": "ipython",
    "version": 3
   },
   "file_extension": ".py",
   "mimetype": "text/x-python",
   "name": "python",
   "nbconvert_exporter": "python",
   "pygments_lexer": "ipython3",
   "version": "3.13.0"
  }
 },
 "nbformat": 4,
 "nbformat_minor": 2
}
